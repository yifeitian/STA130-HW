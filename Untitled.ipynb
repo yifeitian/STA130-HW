{
 "cells": [
  {
   "cell_type": "code",
   "execution_count": 1,
   "id": "f0fed8d4",
   "metadata": {},
   "outputs": [
    {
     "name": "stdout",
     "output_type": "stream",
     "text": [
      "First few rows of the dataset:\n",
      "   row_n       id     name  gender    species birthday personality  \\\n",
      "0      2  admiral  Admiral    male       bird     1-27      cranky   \n",
      "1      3  agent-s  Agent S  female   squirrel      7-2       peppy   \n",
      "2      4    agnes    Agnes  female        pig     4-21        uchi   \n",
      "3      6       al       Al    male    gorilla    10-18        lazy   \n",
      "4      7  alfonso  Alfonso    male  alligator      6-9        lazy   \n",
      "\n",
      "          song    phrase           full_id  \\\n",
      "0   Steep Hill   aye aye  villager-admiral   \n",
      "1      DJ K.K.  sidekick  villager-agent-s   \n",
      "2   K.K. House   snuffle    villager-agnes   \n",
      "3   Steep Hill   Ayyeeee       villager-al   \n",
      "4  Forest Life  it'sa me  villager-alfonso   \n",
      "\n",
      "                                                 url  \n",
      "0  https://villagerdb.com/images/villagers/thumb/...  \n",
      "1  https://villagerdb.com/images/villagers/thumb/...  \n",
      "2  https://villagerdb.com/images/villagers/thumb/...  \n",
      "3  https://villagerdb.com/images/villagers/thumb/...  \n",
      "4  https://villagerdb.com/images/villagers/thumb/...  \n",
      "\n",
      "Missing values in each column:\n",
      "row_n           0\n",
      "id              1\n",
      "name            0\n",
      "gender          0\n",
      "species         0\n",
      "birthday        0\n",
      "personality     0\n",
      "song           11\n",
      "phrase          0\n",
      "full_id         0\n",
      "url             0\n",
      "dtype: int64\n",
      "\n",
      "Total missing values in the dataset: 12\n"
     ]
    }
   ],
   "source": [
    "import pandas as pd\n",
    "\n",
    "# Load the dataset\n",
    "url = \"https://raw.githubusercontent.com/rfordatascience/tidytuesday/master/data/2020/2020-05-05/villagers.csv\"\n",
    "df = pd.read_csv(url)\n",
    "\n",
    "# Display the first few rows of the dataframe\n",
    "print(\"First few rows of the dataset:\")\n",
    "print(df.head())\n",
    "\n",
    "# Check for missing values in the dataset\n",
    "missing_values = df.isnull().sum()\n",
    "print(\"\\nMissing values in each column:\")\n",
    "print(missing_values)\n",
    "\n",
    "# Summary of missing values\n",
    "total_missing = missing_values.sum()\n",
    "print(f\"\\nTotal missing values in the dataset: {total_missing}\")\n"
   ]
  },
  {
   "cell_type": "code",
   "execution_count": 2,
   "id": "1ae66af1",
   "metadata": {},
   "outputs": [
    {
     "name": "stdout",
     "output_type": "stream",
     "text": [
      "The dataset has 391 rows and 11 columns.\n"
     ]
    }
   ],
   "source": [
    "import pandas as pd\n",
    "\n",
    "# Load the dataset\n",
    "df = pd.read_csv('https://raw.githubusercontent.com/rfordatascience/tidytuesday/master/data/2020/2020-05-05/villagers.csv')\n",
    "\n",
    "# Get the number of rows and columns\n",
    "rows, columns = df.shape\n",
    "print(f'The dataset has {rows} rows and {columns} columns.')\n"
   ]
  },
  {
   "cell_type": "markdown",
   "id": "db09b197",
   "metadata": {},
   "source": [
    "2.2. Definitions of Observations and Variables:\n",
    "   - Observations: These are the individual data points or entries in your dataset. In your case, each row in the DataFrame represents a different character from Animal Crossing.\n",
    "   - Variables: These are the different attributes or features that describe each observation. Each column in your DataFrame represents a different variable, such as the character's name, species, or personality type."
   ]
  },
  {
   "cell_type": "code",
   "execution_count": 3,
   "id": "87fe88c0",
   "metadata": {},
   "outputs": [
    {
     "name": "stdout",
     "output_type": "stream",
     "text": [
      "Numeric Columns Summary:\n",
      "             Age       Salary\n",
      "count   5.000000      5.00000\n",
      "mean   35.000000  60000.00000\n",
      "std     7.905694   7905.69415\n",
      "min    25.000000  50000.00000\n",
      "25%    30.000000  55000.00000\n",
      "50%    35.000000  60000.00000\n",
      "75%    40.000000  65000.00000\n",
      "max    45.000000  70000.00000\n",
      "\n",
      "Categorical Columns Summary:\n",
      "\n",
      "Value counts for Gender:\n",
      "Gender\n",
      "Male      3\n",
      "Female    2\n",
      "Name: count, dtype: int64\n"
     ]
    }
   ],
   "source": [
    "import pandas as pd\n",
    "\n",
    "# Sample dataset\n",
    "data = {\n",
    "    'Age': [25, 30, 35, 40, 45],\n",
    "    'Gender': ['Male', 'Female', 'Female', 'Male', 'Male'],\n",
    "    'Salary': [50000, 60000, 55000, 65000, 70000]\n",
    "}\n",
    "\n",
    "# Create DataFrame\n",
    "df = pd.DataFrame(data)\n",
    "\n",
    "# Summary statistics for numeric columns\n",
    "print(\"Numeric Columns Summary:\")\n",
    "print(df.describe())\n",
    "\n",
    "# Value counts for categorical columns\n",
    "print(\"\\nCategorical Columns Summary:\")\n",
    "for column in df.select_dtypes(include=['object']).columns:\n",
    "    print(f\"\\nValue counts for {column}:\")\n",
    "    print(df[column].value_counts())\n"
   ]
  },
  {
   "cell_type": "code",
   "execution_count": 4,
   "id": "eb5fd3ac",
   "metadata": {},
   "outputs": [
    {
     "name": "stdout",
     "output_type": "stream",
     "text": [
      "DataFrame shape: (891, 15)\n",
      "DataFrame columns: Index(['survived', 'pclass', 'sex', 'age', 'sibsp', 'parch', 'fare',\n",
      "       'embarked', 'class', 'who', 'adult_male', 'deck', 'embark_town',\n",
      "       'alive', 'alone'],\n",
      "      dtype='object')\n",
      "First few rows of the dataset:\n",
      "   survived  pclass     sex   age  sibsp  parch     fare embarked  class  \\\n",
      "0         0       3    male  22.0      1      0   7.2500        S  Third   \n",
      "1         1       1  female  38.0      1      0  71.2833        C  First   \n",
      "2         1       3  female  26.0      0      0   7.9250        S  Third   \n",
      "3         1       1  female  35.0      1      0  53.1000        S  First   \n",
      "4         0       3    male  35.0      0      0   8.0500        S  Third   \n",
      "\n",
      "     who  adult_male deck  embark_town alive  alone  \n",
      "0    man        True  NaN  Southampton    no  False  \n",
      "1  woman       False    C    Cherbourg   yes  False  \n",
      "2  woman       False  NaN  Southampton   yes   True  \n",
      "3  woman       False    C  Southampton   yes  False  \n",
      "4    man        True  NaN  Southampton    no   True  \n"
     ]
    }
   ],
   "source": [
    "import pandas as pd\n",
    "\n",
    "# Load Titanic dataset\n",
    "url = 'https://raw.githubusercontent.com/mwaskom/seaborn-data/master/titanic.csv'\n",
    "df = pd.read_csv(url)\n",
    "\n",
    "# Display basic information about the dataset\n",
    "print(\"DataFrame shape:\", df.shape)\n",
    "print(\"DataFrame columns:\", df.columns)\n",
    "print(\"First few rows of the dataset:\")\n",
    "print(df.head())"
   ]
  },
  {
   "cell_type": "markdown",
   "id": "66629c21",
   "metadata": {},
   "source": [
    "df.shape: This returns a tuple with two values (number_of_rows, number_of_columns). For the Titanic dataset, it might return (891, 15), indicating there are 891 rows and 15 columns.\n",
    "df.describe(): By default, df.describe() only summarizes numeric columns. It does not include non-numeric columns (e.g., 'sex', 'embarked', etc.). If the Titanic dataset contains 15 columns but only 7 of them are numeric, df.describe() will only show summaries for those 7 numeric columns.\n",
    "(b) Values in the \"count\" Column\n",
    "\n",
    "df.describe() Count Values: The \"count\" column in df.describe() shows the number of non-missing values for each numeric column. If a numeric column has missing values, its \"count\" will be less than the total number of rows (891 in the Titanic dataset)."
   ]
  },
  {
   "cell_type": "markdown",
   "id": "8b58edbd",
   "metadata": {},
   "source": [
    "question5:\n",
    "\n",
    "1. Attribute: An attribute is a property or characteristic of an object. In pandas, when you use \"df.shape\", you are accessing an attribute of the DataFrame \"df\". This attribute gives you the dimensions of the DataFrame (i.e., the number of rows and columns) without needing to call it like a function. It simply returns the shape as a tuple.\n",
    "\n",
    "2. Method: A method, on the other hand, is a function that is associated with an object and can perform actions or computations. When you use \"df.describe()\", you are calling a method of the DataFrame \"df\". The parentheses \"()\" indicate that you are invoking this method, which will return a summary of the statistics for the numerical columns in the DataFrame.\n",
    "\n",
    "Paraphrased Summary: An attribute is a characteristic of an object that you can access directly (like \"df.shape\"), while a method is a function that you call on an object to perform an action (like \"df.describe()\"). The key difference is that attributes do not require parentheses, whereas methods do."
   ]
  },
  {
   "cell_type": "code",
   "execution_count": 5,
   "id": "d2a184f6",
   "metadata": {},
   "outputs": [
    {
     "name": "stdout",
     "output_type": "stream",
     "text": [
      "               A         B\n",
      "count   4.000000  3.000000\n",
      "mean   30.000000  2.933333\n",
      "std    18.257419  1.680278\n",
      "min    10.000000  1.100000\n",
      "25%    17.500000  2.200000\n",
      "50%    30.000000  3.300000\n",
      "75%    42.500000  3.850000\n",
      "max    50.000000  4.400000\n"
     ]
    }
   ],
   "source": [
    "import pandas as pd\n",
    "import numpy as np\n",
    "\n",
    "# Example DataFrame with missing values\n",
    "data = {\n",
    "    'A': [10, 20, np.nan, 40, 50],\n",
    "    'B': [1.1, np.nan, 3.3, 4.4, np.nan]\n",
    "}\n",
    "\n",
    "df = pd.DataFrame(data)\n",
    "\n",
    "# Get the summary statistics\n",
    "print(df.describe())\n"
   ]
  },
  {
   "cell_type": "markdown",
   "id": "690e5f89",
   "metadata": {},
   "source": [
    "Count:\n",
    "Definition: The number of non-missing values in the column. It tells you how many data points are present in the column for which statistics are being computed.\n",
    "Context: This statistic excludes any missing values (NaNs) from the count.\n",
    "Mean:\n",
    "Definition: The average of the values in the column. It is calculated as the sum of all values divided by the number of non-missing values.\n",
    "Formula: \n",
    "Mean\n",
    "=\n",
    "∑\n",
    "Values\n",
    "Count\n",
    "Mean= \n",
    "Count\n",
    "∑Values\n",
    "​\t\n",
    " \n",
    "Standard Deviation (std):\n",
    "Definition: A measure of the amount of variation or dispersion of the values in the column. A high standard deviation indicates that the values are spread out widely from the mean, while a low standard deviation indicates that they are clustered closely around the mean.\n",
    "Formula: \n",
    "std\n",
    "=\n",
    "∑\n",
    "(\n",
    "x\n",
    "−\n",
    "mean\n",
    ")\n",
    "2\n",
    "Count\n",
    "−\n",
    "1\n",
    "std= \n",
    "Count−1\n",
    "∑(x−mean) \n",
    "2\n",
    " \n",
    "​\t\n",
    " \n",
    "​\t\n",
    " \n",
    "Minimum (min):\n",
    "Definition: The smallest value in the column.\n",
    "Context: It provides the lower bound of the data distribution.\n",
    "25th Percentile (25%):\n",
    "Definition: The value below which 25% of the data falls. Also known as the first quartile (Q1).\n",
    "Context: It gives an idea of the lower range of the data distribution.\n",
    "Median (50%):\n",
    "Definition: The middle value of the data when it is sorted in ascending order. It divides the data into two equal halves. If the number of observations is even, the median is the average of the two middle numbers.\n",
    "Context: It represents the 50th percentile and gives a central value of the distribution.\n",
    "75th Percentile (75%):\n",
    "Definition: The value below which 75% of the data falls. Also known as the third quartile (Q3).\n",
    "Context: It provides an idea of the upper range of the data distribution.\n",
    "Maximum (max):\n",
    "Definition: The largest value in the column.\n",
    "Context: It represents the upper bound of the data distribution.\n"
   ]
  },
  {
   "cell_type": "code",
   "execution_count": 6,
   "id": "93adfa41",
   "metadata": {},
   "outputs": [
    {
     "name": "stdout",
     "output_type": "stream",
     "text": [
      "After df.dropna():\n",
      "    age   salary  satisfaction_score\n",
      "0  25.0  50000.0                 7.0\n",
      "3  40.0  65000.0                 9.0\n"
     ]
    }
   ],
   "source": [
    "import pandas as pd\n",
    "\n",
    "# Example DataFrame with missing values\n",
    "data = {\n",
    "    'age': [25, 30, None, 40],\n",
    "    'salary': [50000, None, 55000, 65000],\n",
    "    'satisfaction_score': [7, 8, None, 9]\n",
    "}\n",
    "df = pd.DataFrame(data)\n",
    "\n",
    "# Drop rows with any missing values\n",
    "df_cleaned = df.dropna()\n",
    "print(\"After df.dropna():\")\n",
    "print(df_cleaned)\n"
   ]
  },
  {
   "cell_type": "code",
   "execution_count": 9,
   "id": "d9bd0e85",
   "metadata": {},
   "outputs": [
    {
     "name": "stdout",
     "output_type": "stream",
     "text": [
      "Before cleaning:\n",
      "survived         0\n",
      "pclass           0\n",
      "sex              0\n",
      "age            177\n",
      "sibsp            0\n",
      "parch            0\n",
      "fare             0\n",
      "embarked         2\n",
      "class            0\n",
      "who              0\n",
      "adult_male       0\n",
      "deck           688\n",
      "embark_town      2\n",
      "alive            0\n",
      "alone            0\n",
      "dtype: int64\n",
      "\n",
      "After cleaning:\n",
      "survived       0\n",
      "pclass         0\n",
      "sex            0\n",
      "age            0\n",
      "sibsp          0\n",
      "parch          0\n",
      "fare           0\n",
      "embarked       0\n",
      "class          0\n",
      "who            0\n",
      "adult_male     0\n",
      "embark_town    0\n",
      "alive          0\n",
      "alone          0\n",
      "dtype: int64\n"
     ]
    }
   ],
   "source": [
    "import pandas as pd\n",
    "\n",
    "# Load Titanic dataset\n",
    "url = 'https://raw.githubusercontent.com/mwaskom/seaborn-data/master/titanic.csv'\n",
    "df = pd.read_csv(url)\n",
    "\n",
    "# Before cleaning\n",
    "print(\"Before cleaning:\")\n",
    "print(df.isnull().sum())\n",
    "\n",
    "# Drop columns with too many missing values (e.g., 'deck' in this case)\n",
    "del df['deck']\n",
    "\n",
    "# Drop rows with any remaining missing values\n",
    "df_cleaned = df.dropna()\n",
    "\n",
    "# After cleaning\n",
    "print(\"\\nAfter cleaning:\")\n",
    "print(df_cleaned.isnull().sum())\n"
   ]
  },
  {
   "cell_type": "code",
   "execution_count": 10,
   "id": "93fbdee3",
   "metadata": {},
   "outputs": [
    {
     "ename": "SyntaxError",
     "evalue": "invalid syntax (3762270515.py, line 1)",
     "output_type": "error",
     "traceback": [
      "\u001b[0;36m  Cell \u001b[0;32mIn[10], line 1\u001b[0;36m\u001b[0m\n\u001b[0;31m    error 1\u001b[0m\n\u001b[0m          ^\u001b[0m\n\u001b[0;31mSyntaxError\u001b[0m\u001b[0;31m:\u001b[0m invalid syntax\n"
     ]
    }
   ],
   "source": [
    "error 1\n",
    "NameError: name 'pd' is not defined\n",
    "error 2\n",
    "FileNotFoundError: [Errno 2] No such file or directory: 'titanics.csv'\n",
    "error 3\n",
    "NameError: name 'DF' is not defined\n",
    "error 4\n",
    "SyntaxError: unexpected EOF while parsing\n",
    "error 5\n",
    "AttributeError: 'DataFrame' object has no attribute 'group_by'\n",
    "error 6\n",
    "KeyError: 'Sex'\n",
    "error 7\n",
    "NameError: name 'age' is not defined\n"
   ]
  },
  {
   "cell_type": "code",
   "execution_count": null,
   "id": "d08eb4c4",
   "metadata": {},
   "outputs": [],
   "source": [
    "question 8.1 8.2"
   ]
  },
  {
   "cell_type": "code",
   "execution_count": 11,
   "id": "8082ae29",
   "metadata": {},
   "outputs": [
    {
     "name": "stdout",
     "output_type": "stream",
     "text": [
      "        count       mean        std   min   25%   50%   75%   max\n",
      "pclass                                                           \n",
      "1       186.0  38.233441  14.802856  0.92  27.0  37.0  49.0  80.0\n",
      "2       173.0  29.877630  14.001077  0.67  23.0  29.0  36.0  70.0\n",
      "3       355.0  25.140620  12.495398  0.42  18.0  24.0  32.0  74.0\n"
     ]
    }
   ],
   "source": [
    "import pandas as pd\n",
    "\n",
    "# Load the Titanic dataset\n",
    "url = \"https://raw.githubusercontent.com/mwaskom/seaborn-data/master/titanic.csv\"\n",
    "df = pd.read_csv(url)\n",
    "\n",
    "# Group by passenger class and describe the age column\n",
    "result = df.groupby(\"pclass\")[\"age\"].describe()\n",
    "print(result)\n"
   ]
  },
  {
   "cell_type": "markdown",
   "id": "9aae6487",
   "metadata": {},
   "source": [
    "9.somewhat"
   ]
  }
 ],
 "metadata": {
  "kernelspec": {
   "display_name": "Python 3 (ipykernel)",
   "language": "python",
   "name": "python3"
  },
  "language_info": {
   "codemirror_mode": {
    "name": "ipython",
    "version": 3
   },
   "file_extension": ".py",
   "mimetype": "text/x-python",
   "name": "python",
   "nbconvert_exporter": "python",
   "pygments_lexer": "ipython3",
   "version": "3.11.6"
  }
 },
 "nbformat": 4,
 "nbformat_minor": 5
}
